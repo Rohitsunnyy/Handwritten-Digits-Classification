{
  "nbformat": 4,
  "nbformat_minor": 0,
  "metadata": {
    "colab": {
      "provenance": []
    },
    "kernelspec": {
      "name": "python3",
      "display_name": "Python 3"
    },
    "language_info": {
      "name": "python"
    }
  },
  "cells": [
    {
      "cell_type": "code",
      "execution_count": 13,
      "metadata": {
        "id": "OZO9dR-JzRxq"
      },
      "outputs": [],
      "source": [
        "import numpy as np\n",
        "\n",
        "y_pred = np.array([1,1,0,0,1])\n",
        "y_true = np.array([0.30,0.7,1,0,0.5])"
      ]
    },
    {
      "cell_type": "code",
      "source": [
        "#writing the fuctions for total error, Mean absolute error , mean square error\n",
        "def mae(y_true, y_pred):\n",
        "  total_error = 0\n",
        "  for yt, yp in zip (y_true, y_pred):\n",
        "    total_error += abs(yt -yp)\n",
        "  print(\"Total error:\", total_error)\n",
        "  mae = total_error / len(y_true)\n",
        "  print(\"total mae:\", mae)\n",
        "  #return mae\n"
      ],
      "metadata": {
        "id": "4pXmOL-KzeZ8"
      },
      "execution_count": 24,
      "outputs": []
    },
    {
      "cell_type": "code",
      "source": [
        "mae(y_true, y_pred)"
      ],
      "metadata": {
        "colab": {
          "base_uri": "https://localhost:8080/"
        },
        "id": "cKTkjk-L0AWD",
        "outputId": "543ed9a0-8305-4209-c056-b3ada778936e"
      },
      "execution_count": 19,
      "outputs": [
        {
          "output_type": "stream",
          "name": "stdout",
          "text": [
            "Total error: 2.5\n",
            "total mae: 0.5\n"
          ]
        }
      ]
    },
    {
      "cell_type": "code",
      "source": [
        "#Doing the same fuction as above using numpy :\n",
        "np.mean(np.abs(y_pred - y_true))"
      ],
      "metadata": {
        "colab": {
          "base_uri": "https://localhost:8080/"
        },
        "id": "Y-zkPVEv0EKc",
        "outputId": "9c9c769b-6ea1-4860-d28f-e92c65753e2d"
      },
      "execution_count": 23,
      "outputs": [
        {
          "output_type": "execute_result",
          "data": {
            "text/plain": [
              "0.5"
            ]
          },
          "metadata": {},
          "execution_count": 23
        }
      ]
    },
    {
      "cell_type": "code",
      "source": [
        "np.log([0.000001])"
      ],
      "metadata": {
        "colab": {
          "base_uri": "https://localhost:8080/"
        },
        "id": "Ru8TFlk42mZY",
        "outputId": "d0ffa5ac-5b2f-458c-f5e6-5d33137b78d6"
      },
      "execution_count": 26,
      "outputs": [
        {
          "output_type": "execute_result",
          "data": {
            "text/plain": [
              "array([-13.81551056])"
            ]
          },
          "metadata": {},
          "execution_count": 26
        }
      ]
    },
    {
      "cell_type": "code",
      "source": [
        "eplison = 1e-15"
      ],
      "metadata": {
        "id": "8QiRhxmS3QaS"
      },
      "execution_count": 27,
      "outputs": []
    },
    {
      "cell_type": "code",
      "source": [
        "y_pred"
      ],
      "metadata": {
        "colab": {
          "base_uri": "https://localhost:8080/"
        },
        "id": "x2i5WuZs317T",
        "outputId": "aa8b40a7-5bb2-48db-f6e1-897bcd352576"
      },
      "execution_count": 28,
      "outputs": [
        {
          "output_type": "execute_result",
          "data": {
            "text/plain": [
              "array([1, 1, 0, 0, 1])"
            ]
          },
          "metadata": {},
          "execution_count": 28
        }
      ]
    },
    {
      "cell_type": "code",
      "source": [
        "y_pred_new = [ max(i , eplison )for i in y_pred]\n",
        "y_pred_new\n"
      ],
      "metadata": {
        "colab": {
          "base_uri": "https://localhost:8080/"
        },
        "id": "d2G_V1D633WY",
        "outputId": "c1c4c896-fd6e-451b-b0ff-0eaf8137f1c2"
      },
      "execution_count": 39,
      "outputs": [
        {
          "output_type": "execute_result",
          "data": {
            "text/plain": [
              "[1, 1, 1e-15, 1e-15, 1]"
            ]
          },
          "metadata": {},
          "execution_count": 39
        }
      ]
    },
    {
      "cell_type": "code",
      "source": [
        "y_pred_new = [min(i,1-eplison) for i in y_pred_new]\n",
        "y_pred_new"
      ],
      "metadata": {
        "colab": {
          "base_uri": "https://localhost:8080/"
        },
        "id": "5L4wV8nP4U3q",
        "outputId": "1a30f7ef-5c3a-4641-91a1-4ed41f3c5cb7"
      },
      "execution_count": 40,
      "outputs": [
        {
          "output_type": "execute_result",
          "data": {
            "text/plain": [
              "[0.999999999999999, 0.999999999999999, 1e-15, 1e-15, 0.999999999999999]"
            ]
          },
          "metadata": {},
          "execution_count": 40
        }
      ]
    },
    {
      "cell_type": "code",
      "source": [
        "y_pred_new = np.array(y_pred_new)\n",
        "np.log(y_pred_new)"
      ],
      "metadata": {
        "colab": {
          "base_uri": "https://localhost:8080/"
        },
        "id": "KVZ9kcxZ4elb",
        "outputId": "06db9f0a-cf2b-4d79-b539-b3e64330e335"
      },
      "execution_count": 41,
      "outputs": [
        {
          "output_type": "execute_result",
          "data": {
            "text/plain": [
              "array([-9.99200722e-16, -9.99200722e-16, -3.45387764e+01, -3.45387764e+01,\n",
              "       -9.99200722e-16])"
            ]
          },
          "metadata": {},
          "execution_count": 41
        }
      ]
    },
    {
      "cell_type": "code",
      "source": [
        "-np.mean(y_true*np.log(y_pred_new)+(1-y_true)*np.log(1-y_pred_new))"
      ],
      "metadata": {
        "colab": {
          "base_uri": "https://localhost:8080/"
        },
        "id": "R72Sl7wB5YOk",
        "outputId": "9ed2b731-6cb0-4808-d2c0-cb45933d5850"
      },
      "execution_count": 42,
      "outputs": [
        {
          "output_type": "execute_result",
          "data": {
            "text/plain": [
              "17.2696280766844"
            ]
          },
          "metadata": {},
          "execution_count": 42
        }
      ]
    },
    {
      "cell_type": "code",
      "source": [
        "def log_loss (y_true, y_pred):\n",
        "  epsilon = 1e-15\n",
        "  y_pred_new = [ max(i , eplison )for i in y_pred]\n",
        "  y_pred_new = [min(i,1-eplison) for i in y_pred_new]\n",
        "  y_pred_new = np.array(y_pred_new)\n",
        "  return -np.mean(y_true*np.log(y_pred_new)+(1-y_true)*np.log(1-y_pred_new))\n",
        "\n",
        "\n",
        "\n"
      ],
      "metadata": {
        "id": "mF9qTw4k5zq5"
      },
      "execution_count": 43,
      "outputs": []
    },
    {
      "cell_type": "code",
      "source": [
        "log_loss(y_true, y_pred_new)"
      ],
      "metadata": {
        "colab": {
          "base_uri": "https://localhost:8080/"
        },
        "id": "c_pPcsxZ6NtL",
        "outputId": "bab8af14-b472-48ef-f73e-716aa0c1c90e"
      },
      "execution_count": 44,
      "outputs": [
        {
          "output_type": "execute_result",
          "data": {
            "text/plain": [
              "17.2696280766844"
            ]
          },
          "metadata": {},
          "execution_count": 44
        }
      ]
    },
    {
      "cell_type": "markdown",
      "source": [
        "#implement mean square error (or MLE)"
      ],
      "metadata": {
        "id": "gqOLlzHc6dlQ"
      }
    },
    {
      "cell_type": "code",
      "source": [],
      "metadata": {
        "id": "NFtFYAoG6RYW"
      },
      "execution_count": null,
      "outputs": []
    }
  ]
}